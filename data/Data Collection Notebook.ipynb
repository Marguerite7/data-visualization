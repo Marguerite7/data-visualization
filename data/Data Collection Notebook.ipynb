{
  "nbformat": 4,
  "nbformat_minor": 0,
  "metadata": {
    "colab": {
      "name": "Db_DAAV_Project.ipynb",
      "provenance": [],
      "collapsed_sections": []
    },
    "kernelspec": {
      "display_name": "Python 3",
      "name": "python3"
    },
    "language_info": {
      "name": "python"
    }
  },
  "cells": [
    {
      "cell_type": "code",
      "metadata": {
        "id": "bjFdDBqPRfob"
      },
      "source": [
        "import requests\n",
        "import pandas as pd\n",
        "import numpy as np\n",
        "import json"
      ],
      "execution_count": null,
      "outputs": []
    },
    {
      "cell_type": "markdown",
      "source": [
        "## API used\n",
        "https://rapidapi.com/movie-of-the-night-movie-of-the-night-default/api/streaming-availability/"
      ],
      "metadata": {
        "id": "qQHV1o3LyeYi"
      }
    },
    {
      "cell_type": "code",
      "metadata": {
        "id": "K91hp025mfx-"
      },
      "source": [
        "def request(page):\n",
        "    url = \"https://streaming-availability.p.rapidapi.com/search/basic\"\n",
        "\n",
        "    headers = {\n",
        "        'x-rapidapi-host': \"streaming-availability.p.rapidapi.com\",\n",
        "        'x-rapidapi-key': \"e758c7a22amsh8ba3a4bd2a799b8p18abd9jsn7e529bfbb7a6\"\n",
        "        }\n",
        "    querystring = {\"country\":\"us\",\"service\":\"hbo\",\"type\":\"movie\", \"page\":page}\n",
        "    html = requests.get(url, headers=headers, params=querystring)\n",
        "    single_movie_data = html.json()\n",
        "    with open('single_movie_data.json', 'w', encoding='utf-8') as f:\n",
        "        json.dump(single_movie_data['results'], f, ensure_ascii=False, indent=4)\n",
        "    df = pd.read_json('single_movie_data.json', orient='records')\n",
        "    return df"
      ],
      "execution_count": null,
      "outputs": []
    },
    {
      "cell_type": "code",
      "metadata": {
        "id": "oqVGRlUMo5HP"
      },
      "source": [
        "def new_dataset():\n",
        "    columns_names = [\"imdbID\", \"tmdbID\", \"imdbRating\",\t\"imdbVoteCount\",\t\"tmdbRating\",\t\"originalTitle\", \"genres\",\t\"countries\",\t\"year\",\t\"runtime\",\t\"cast\",\t\"significants\",\t\"title\",\t\"overview\",\t\"tagline\",\t\"video\",\t\"posterPath\",\t\"poster_URLs_original\",\t\"age\",\t\"netflix\",\t\"disney\",\t\"prime\",\t\"hbo\"]\n",
        "    Dataset = pd.DataFrame(columns = columns_names)\n",
        "    return Dataset"
      ],
      "execution_count": null,
      "outputs": []
    },
    {
      "cell_type": "code",
      "metadata": {
        "id": "LQQTlpdNN56Y"
      },
      "source": [
        "def write(df, Dataset):\n",
        "    for i in range(8):\n",
        "        md = df.iloc[i]\n",
        "        try: \n",
        "            Dataset.loc[-1] = [md['imdbID'], md['tmdbID'], md['imdbRating'], md['imdbVoteCount'], md['tmdbRating'], md['originalTitle'], md['genres'], md['countries'], md['year'], md['runtime'], md['cast'], md['significants'], md['title'], md['overview'], md['tagline'], md['video'], md['posterPath'], md['posterURLs']['original'], md['age'], 'False', 'False', 'False', 'True']\n",
        "        except: \n",
        "            Dataset.loc[-1] = [md['imdbID'], md['tmdbID'], md['imdbRating'], md['imdbVoteCount'], md['tmdbRating'], md['originalTitle'], md['genres'], md['countries'], md['year'], md['runtime'], md['cast'], md['significants'], md['title'], md['overview'], md['tagline'], md['video'], md['posterPath'], np.nan, md['age'], 'False', 'False', 'False', 'True']\n",
        "        Dataset.index = Dataset.index + 1\n",
        "        Dataset = Dataset.sort_index()\n",
        "    return Dataset"
      ],
      "execution_count": null,
      "outputs": []
    },
    {
      "cell_type": "code",
      "metadata": {
        "id": "ueRiqgtNWmg7"
      },
      "source": [
        "def main_function(start_page, page_count, Dataset):\n",
        "    if start_page==0:\n",
        "        dataset = new_dataset()\n",
        "    else:\n",
        "        dataset = Dataset\n",
        "    for i in range(page_count):\n",
        "        df = request(start_page + i + 1)\n",
        "        dataset = write(df, dataset)\n",
        "    return dataset"
      ],
      "execution_count": null,
      "outputs": []
    },
    {
      "cell_type": "markdown",
      "source": [
        "## Create Dataset"
      ],
      "metadata": {
        "id": "_OlgUsngytFS"
      }
    },
    {
      "cell_type": "code",
      "metadata": {
        "id": "s4IdCg9hPPA4"
      },
      "source": [
        "dataset = main_function(0, 258, Dataset)"
      ],
      "execution_count": null,
      "outputs": []
    },
    {
      "cell_type": "code",
      "metadata": {
        "id": "85SSAWzlarmK"
      },
      "source": [
        "dataset"
      ],
      "execution_count": null,
      "outputs": []
    },
    {
      "cell_type": "code",
      "metadata": {
        "id": "_aTPHODGcJhZ"
      },
      "source": [
        "dataset.to_csv('Dataset.csv')"
      ],
      "execution_count": null,
      "outputs": []
    },
    {
      "cell_type": "markdown",
      "source": [
        "## Small tests"
      ],
      "metadata": {
        "id": "QYUuk8L1zF6w"
      }
    },
    {
      "cell_type": "code",
      "metadata": {
        "colab": {
          "base_uri": "https://localhost:8080/"
        },
        "id": "eFw473dZEec8",
        "outputId": "87034346-124f-4629-c94a-75e5c185e729"
      },
      "source": [
        "# url = \"https://streaming-availability.p.rapidapi.com/get/basic\"\n",
        "\n",
        "# querystring = {\"country\":\"us\",\"imdb_id\":\"tt0264464\",\"output_language\":\"en\"}\n",
        "\n",
        "# headers = {\n",
        "#     'x-rapidapi-host': \"streaming-availability.p.rapidapi.com\",\n",
        "#     'x-rapidapi-key': \"e758c7a22amsh8ba3a4bd2a799b8p18abd9jsn7e529bfbb7a6\"\n",
        "#     }\n",
        "\n",
        "# response = requests.request(\"GET\", url, headers=headers, params=querystring)\n",
        "\n",
        "# print(response.text)"
      ],
      "execution_count": 6,
      "outputs": [
        {
          "output_type": "stream",
          "name": "stdout",
          "text": [
            "{\"message\":\"You are not subscribed to this API.\"}\n"
          ]
        }
      ]
    },
    {
      "cell_type": "code",
      "metadata": {
        "colab": {
          "base_uri": "https://localhost:8080/"
        },
        "id": "A8lLY5Ccf8AK",
        "outputId": "e2ce3183-5821-4d80-e05f-1ce4cd4091d4"
      },
      "source": [
        "# url = \"https://streaming-availability.p.rapidapi.com/search/basic\"\n",
        "\n",
        "# headers = {\n",
        "#     'x-rapidapi-host': \"streaming-availability.p.rapidapi.com\",\n",
        "#     'x-rapidapi-key': \"e758c7a22amsh8ba3a4bd2a799b8p18abd9jsn7e529bfbb7a6\"\n",
        "#     }\n",
        "# querystring = {\"country\":\"us\",\"service\":\"hbo\",\"type\":\"movie\"}\n",
        "# html = requests.get(url, headers=headers, params=querystring)\n",
        "# print(html.text)"
      ],
      "execution_count": null,
      "outputs": [
        {
          "name": "stdout",
          "output_type": "stream",
          "text": [
            "{\"results\":[{\"imdbID\":\"tt6959552\",\"tmdbID\":\"510192\",\"imdbRating\":57,\"imdbVoteCount\":10,\"tmdbRating\":0,\"backdropPath\":\"/xKmTsbaB1Rxx0iNv8vvDosNXCUR.jpg\",\"backdropURLs\":{\"1280\":\"https://image.tmdb.org/t/p/w1280/xKmTsbaB1Rxx0iNv8vvDosNXCUR.jpg\",\"300\":\"https://image.tmdb.org/t/p/w300/xKmTsbaB1Rxx0iNv8vvDosNXCUR.jpg\",\"780\":\"https://image.tmdb.org/t/p/w780/xKmTsbaB1Rxx0iNv8vvDosNXCUR.jpg\",\"original\":\"https://image.tmdb.org/t/p/original/xKmTsbaB1Rxx0iNv8vvDosNXCUR.jpg\"},\"originalTitle\":\"#GeorgeWashington\",\"genres\":[99,6],\"countries\":[\"US\"],\"year\":2017,\"runtime\":12,\"cast\":[],\"significants\":[],\"title\":\"#GeorgeWashington\",\"overview\":\"Meet the Father of Our Country in a whole new way as historians analyze George Washington's voluminous correspondence.  Setting out his contacts and letters in the modern framework of a Facebook profile gives Washington's busy and productive career a new transparency.\",\"tagline\":\"\",\"video\":\"\",\"posterPath\":\"/nE4w1cSFCBqdjWWNA01yxCkjRk0.jpg\",\"posterURLs\":{\"154\":\"https://image.tmdb.org/t/p/w154/nE4w1cSFCBqdjWWNA01yxCkjRk0.jpg\",\"185\":\"https://image.tmdb.org/t/p/w185/nE4w1cSFCBqdjWWNA01yxCkjRk0.jpg\",\"342\":\"https://image.tmdb.org/t/p/w342/nE4w1cSFCBqdjWWNA01yxCkjRk0.jpg\",\"500\":\"https://image.tmdb.org/t/p/w500/nE4w1cSFCBqdjWWNA01yxCkjRk0.jpg\",\"780\":\"https://image.tmdb.org/t/p/w780/nE4w1cSFCBqdjWWNA01yxCkjRk0.jpg\",\"92\":\"https://image.tmdb.org/t/p/w92/nE4w1cSFCBqdjWWNA01yxCkjRk0.jpg\",\"original\":\"https://image.tmdb.org/t/p/original/nE4w1cSFCBqdjWWNA01yxCkjRk0.jpg\"},\"age\":-1,\"streamingInfo\":{\"curiosity\":{\"us\":{\"link\":\"https://curiositystream.com/video/1787\",\"added\":1635923773,\"leaving\":0}},\"hbo\":{\"us\":{\"link\":\"https://play.hbomax.com/page/urn:hbo:page:GXs7Qyg35EVVGwwEAAAMi:type:feature\",\"added\":1635944410,\"leaving\":0}}},\"originalLanguage\":\"en\"},{\"imdbID\":\"tt11724300\",\"tmdbID\":\"754398\",\"imdbRating\":67,\"imdbVoteCount\":88,\"tmdbRating\":0,\"backdropPath\":\"\",\"backdropURLs\":{},\"originalTitle\":\"1, 2, 3, All Eyes On Me\",\"genres\":[6,18],\"countries\":[\"US\"],\"year\":2020,\"runtime\":15,\"cast\":[\"Farelle Walker\",\"Blanca Ordaz\",\"Armand Munoz\",\"Samuel Ieremia\",\"Favianna Brown\",\"Olivia Gardner\"],\"significants\":[\"Emil Gallardo\"],\"title\":\"1, 2, 3, All Eyes On Me\",\"overview\":\"When a crisis suddenly engulfs an elementary school campus, a determined art teacher tries everything she can to save her class.\",\"tagline\":\"\",\"video\":\"\",\"posterPath\":\"/tdm0rXjrg7y9WDbiFzC2ikMtikG.jpg\",\"posterURLs\":{\"154\":\"https://image.tmdb.org/t/p/w154/tdm0rXjrg7y9WDbiFzC2ikMtikG.jpg\",\"185\":\"https://image.tmdb.org/t/p/w185/tdm0rXjrg7y9WDbiFzC2ikMtikG.jpg\",\"342\":\"https://image.tmdb.org/t/p/w342/tdm0rXjrg7y9WDbiFzC2ikMtikG.jpg\",\"500\":\"https://image.tmdb.org/t/p/w500/tdm0rXjrg7y9WDbiFzC2ikMtikG.jpg\",\"780\":\"https://image.tmdb.org/t/p/w780/tdm0rXjrg7y9WDbiFzC2ikMtikG.jpg\",\"92\":\"https://image.tmdb.org/t/p/w92/tdm0rXjrg7y9WDbiFzC2ikMtikG.jpg\",\"original\":\"https://image.tmdb.org/t/p/original/tdm0rXjrg7y9WDbiFzC2ikMtikG.jpg\"},\"age\":-1,\"streamingInfo\":{\"hbo\":{\"us\":{\"link\":\"https://play.hbomax.com/page/urn:hbo:page:GYDkpCQbPV26ewgEAAAAY:type:feature\",\"added\":1635942025,\"leaving\":0}}},\"originalLanguage\":\"en\"},{\"imdbID\":\"tt1715873\",\"tmdbID\":\"58547\",\"imdbRating\":61,\"imdbVoteCount\":25174,\"tmdbRating\":58,\"backdropPath\":\"/m3i3asfpbMyIW7tGOfq9w7T0Q7F.jpg\",\"backdropURLs\":{\"1280\":\"https://image.tmdb.org/t/p/w1280/m3i3asfpbMyIW7tGOfq9w7T0Q7F.jpg\",\"300\":\"https://image.tmdb.org/t/p/w300/m3i3asfpbMyIW7tGOfq9w7T0Q7F.jpg\",\"780\":\"https://image.tmdb.org/t/p/w780/m3i3asfpbMyIW7tGOfq9w7T0Q7F.jpg\",\"original\":\"https://image.tmdb.org/t/p/original/m3i3asfpbMyIW7tGOfq9w7T0Q7F.jpg\"},\"originalTitle\":\"10 Years\",\"genres\":[35,18],\"countries\":[\"US\"],\"year\":2012,\"runtime\":100,\"cast\":[\"Channing Tatum\",\"Jenna Dewan\",\"Justin Long\",\"Max Minghella\",\"Oscar Isaac\",\"Chris Pratt\",\"Ari Graynor\"],\"significants\":[\"Jamie Linden\"],\"title\":\"10 Years\",\"overview\":\"A group of friends reunite ten years after their high-school graduation.\",\"tagline\":\"Who Got Fat? Who Didn't Change? Who Got Rich? Who Got Hot?\",\"video\":\"-k5y4bLU5X4\",\"posterPath\":\"/1WjXdp4i2NR9RYGN0t0oy3tkGro.jpg\",\"posterURLs\":{\"154\":\"https://image.tmdb.org/t/p/w154/1WjXdp4i2NR9RYGN0t0oy3tkGro.jpg\",\"185\":\"https://image.tmdb.org/t/p/w185/1WjXdp4i2NR9RYGN0t0oy3tkGro.jpg\",\"342\":\"https://image.tmdb.org/t/p/w342/1WjXdp4i2NR9RYGN0t0oy3tkGro.jpg\",\"500\":\"https://image.tmdb.org/t/p/w500/1WjXdp4i2NR9RYGN0t0oy3tkGro.jpg\",\"780\":\"https://image.tmdb.org/t/p/w780/1WjXdp4i2NR9RYGN0t0oy3tkGro.jpg\",\"92\":\"https://image.tmdb.org/t/p/w92/1WjXdp4i2NR9RYGN0t0oy3tkGro.jpg\",\"original\":\"https://image.tmdb.org/t/p/original/1WjXdp4i2NR9RYGN0t0oy3tkGro.jpg\"},\"age\":12,\"streamingInfo\":{\"hbo\":{\"us\":{\"link\":\"https://play.hbomax.com/page/urn:hbo:page:GYBNhmwm7rocyvgEAAACx:type:feature\",\"added\":1614671307,\"leaving\":1}}},\"originalLanguage\":\"en\"},{\"imdbID\":\"tt1548865\",\"tmdbID\":\"44806\",\"imdbRating\":73,\"imdbVoteCount\":529,\"tmdbRating\":72,\"backdropPath\":\"\",\"backdropURLs\":{},\"originalTitle\":\"12th \\u0026 Delaware\",\"genres\":[99,18],\"countries\":[\"US\"],\"year\":2010,\"runtime\":90,\"cast\":[],\"significants\":[\"Heidi Ewing\",\"Rachel Grady\"],\"title\":\"12th \\u0026 Delaware\",\"overview\":\"The abortion battle continues to rage in unexpected ways on one corner in an American city.\",\"tagline\":\"Every day a battle is born.\",\"video\":\"rFVTc4aghos\",\"posterPath\":\"/5BjFLRyiN7NDhzI7Bo66sSXbm93.jpg\",\"posterURLs\":{\"154\":\"https://image.tmdb.org/t/p/w154/5BjFLRyiN7NDhzI7Bo66sSXbm93.jpg\",\"185\":\"https://image.tmdb.org/t/p/w185/5BjFLRyiN7NDhzI7Bo66sSXbm93.jpg\",\"342\":\"https://image.tmdb.org/t/p/w342/5BjFLRyiN7NDhzI7Bo66sSXbm93.jpg\",\"500\":\"https://image.tmdb.org/t/p/w500/5BjFLRyiN7NDhzI7Bo66sSXbm93.jpg\",\"780\":\"https://image.tmdb.org/t/p/w780/5BjFLRyiN7NDhzI7Bo66sSXbm93.jpg\",\"92\":\"https://image.tmdb.org/t/p/w92/5BjFLRyiN7NDhzI7Bo66sSXbm93.jpg\",\"original\":\"https://image.tmdb.org/t/p/original/5BjFLRyiN7NDhzI7Bo66sSXbm93.jpg\"},\"age\":14,\"streamingInfo\":{\"hbo\":{\"us\":{\"link\":\"https://play.hbomax.com/page/urn:hbo:page:GVU3rMw5TTlFvjSoJAZWP:type:feature\",\"added\":1600284192,\"leaving\":0}}},\"originalLanguage\":\"en\"},{\"imdbID\":\"tt0337563\",\"tmdbID\":\"10096\",\"imdbRating\":62,\"imdbVoteCount\":179184,\"tmdbRating\":67,\"backdropPath\":\"/pZeqKRcVSoGA07lAb017h4hFeLF.jpg\",\"backdropURLs\":{\"1280\":\"https://image.tmdb.org/t/p/w1280/pZeqKRcVSoGA07lAb017h4hFeLF.jpg\",\"300\":\"https://image.tmdb.org/t/p/w300/pZeqKRcVSoGA07lAb017h4hFeLF.jpg\",\"780\":\"https://image.tmdb.org/t/p/w780/pZeqKRcVSoGA07lAb017h4hFeLF.jpg\",\"original\":\"https://image.tmdb.org/t/p/original/pZeqKRcVSoGA07lAb017h4hFeLF.jpg\"},\"originalTitle\":\"13 Going on 30\",\"genres\":[35,14,10749],\"countries\":[\"US\"],\"year\":2004,\"runtime\":98,\"cast\":[\"Jennifer Garner\",\"Mark Ruffalo\",\"Judy Greer\",\"Andy Serkis\",\"Christa B. Allen\",\"Sean Marquette\",\"Alexandra Kyle\"],\"significants\":[\"Gary Winick\"],\"title\":\"13 Going on 30\",\"overview\":\"After total humiliation at her thirteenth birthday party, Jenna Rink wants to just hide until she's thirty. With a little magic, her wish is granted, but it turns out that being thirty isn't as always as awesome as she thought it would be!\",\"tagline\":\"For some, 13 feels like it was just yesterday. For Jenna, it was.\",\"video\":\"SApIKVq1iJQ\",\"posterPath\":\"/iNZdSIfhSCMtRILDNyhLn8UKeSG.jpg\",\"posterURLs\":{\"154\":\"https://image.tmdb.org/t/p/w154/iNZdSIfhSCMtRILDNyhLn8UKeSG.jpg\",\"185\":\"https://image.tmdb.org/t/p/w185/iNZdSIfhSCMtRILDNyhLn8UKeSG.jpg\",\"342\":\"https://image.tmdb.org/t/p/w342/iNZdSIfhSCMtRILDNyhLn8UKeSG.jpg\",\"500\":\"https://image.tmdb.org/t/p/w500/iNZdSIfhSCMtRILDNyhLn8UKeSG.jpg\",\"780\":\"https://image.tmdb.org/t/p/w780/iNZdSIfhSCMtRILDNyhLn8UKeSG.jpg\",\"92\":\"https://image.tmdb.org/t/p/w92/iNZdSIfhSCMtRILDNyhLn8UKeSG.jpg\",\"original\":\"https://image.tmdb.org/t/p/original/iNZdSIfhSCMtRILDNyhLn8UKeSG.jpg\"},\"age\":6,\"streamingInfo\":{\"hbo\":{\"us\":{\"link\":\"https://play.hbomax.com/page/urn:hbo:page:GYBmgpwLcl0OLlAEAAAAX:type:feature\",\"added\":1615255594,\"leaving\":0}}},\"originalLanguage\":\"en\"},{\"imdbID\":\"tt11188206\",\"tmdbID\":\"641363\",\"imdbRating\":67,\"imdbVoteCount\":378,\"tmdbRating\":70,\"backdropPath\":\"/qQlUXX6JOCRXnolcuzdXavaUsKn.jpg\",\"backdropURLs\":{\"1280\":\"https://image.tmdb.org/t/p/w1280/qQlUXX6JOCRXnolcuzdXavaUsKn.jpg\",\"300\":\"https://image.tmdb.org/t/p/w300/qQlUXX6JOCRXnolcuzdXavaUsKn.jpg\",\"780\":\"https://image.tmdb.org/t/p/w780/qQlUXX6JOCRXnolcuzdXavaUsKn.jpg\",\"original\":\"https://image.tmdb.org/t/p/original/qQlUXX6JOCRXnolcuzdXavaUsKn.jpg\"},\"originalTitle\":\"15 Minutes of Shame\",\"genres\":[99],\"countries\":[\"US\"],\"year\":2021,\"runtime\":85,\"cast\":[\"Monica Lewinsky\",\"Max Joseph\"],\"significants\":[\"Max Joseph\"],\"title\":\"15 Minutes of Shame\",\"overview\":\"A timely, eye-opening roller-coaster ride through the world of public shaming. Examine social behavior by embedding with individuals from across the U.S. who have been publicly shamed or cyber-harassed – while exploring the bullies, the bystanders, the media, psychologists, politicians and experts in between.\",\"tagline\":\"Who's next?\",\"video\":\"dhJrnNdH-aw\",\"posterPath\":\"/1qUmXGkmAbDj9n14CqeFItQknGA.jpg\",\"posterURLs\":{\"154\":\"https://image.tmdb.org/t/p/w154/1qUmXGkmAbDj9n14CqeFItQknGA.jpg\",\"185\":\"https://image.tmdb.org/t/p/w185/1qUmXGkmAbDj9n14CqeFItQknGA.jpg\",\"342\":\"https://image.tmdb.org/t/p/w342/1qUmXGkmAbDj9n14CqeFItQknGA.jpg\",\"500\":\"https://image.tmdb.org/t/p/w500/1qUmXGkmAbDj9n14CqeFItQknGA.jpg\",\"780\":\"https://image.tmdb.org/t/p/w780/1qUmXGkmAbDj9n14CqeFItQknGA.jpg\",\"92\":\"https://image.tmdb.org/t/p/w92/1qUmXGkmAbDj9n14CqeFItQknGA.jpg\",\"original\":\"https://image.tmdb.org/t/p/original/1qUmXGkmAbDj9n14CqeFItQknGA.jpg\"},\"age\":18,\"streamingInfo\":{\"hbo\":{\"us\":{\"link\":\"https://play.hbomax.com/page/urn:hbo:page:GYVwB2QzURrmjIwEAAABa:type:feature\",\"added\":1633995428,\"leaving\":0}}},\"originalLanguage\":\"en\"},{\"imdbID\":\"tt7675404\",\"tmdbID\":\"493832\",\"imdbRating\":81,\"imdbVoteCount\":1455,\"tmdbRating\":64,\"backdropPath\":\"/LXjVMkBXu4cDwzcwsaGl9JmkV2.jpg\",\"backdropURLs\":{\"1280\":\"https://image.tmdb.org/t/p/w1280/LXjVMkBXu4cDwzcwsaGl9JmkV2.jpg\",\"300\":\"https://image.tmdb.org/t/p/w300/LXjVMkBXu4cDwzcwsaGl9JmkV2.jpg\",\"780\":\"https://image.tmdb.org/t/p/w780/LXjVMkBXu4cDwzcwsaGl9JmkV2.jpg\",\"original\":\"https://image.tmdb.org/t/p/original/LXjVMkBXu4cDwzcwsaGl9JmkV2.jpg\"},\"originalTitle\":\"1968\",\"genres\":[36,5],\"countries\":[\"GR\"],\"year\":2018,\"runtime\":93,\"cast\":[\"Antonis Kafetzopoulos\",\"Stelios Mainas\",\"Errikos Litsis\",\"Themis Panou\",\"Vasiliki Troufakou\",\"Ieroklis Michaelidis\",\"Orfeas Avgoustidis\"],\"significants\":[\"Tassos Boulmetis\"],\"title\":\"1968\",\"overview\":\"A.E.K., the well-known Greek basketball team founded in 1924 by refugees from Constantinople, after 44 years, beats SLAVIA of Prague and wins the European Cup.\",\"tagline\":\"They won because they couldn't lose\",\"video\":\"VZw3UHU2zKs\",\"posterPath\":\"/q2P8e3TF1CWPBuDpT2OULTdviwP.jpg\",\"posterURLs\":{\"154\":\"https://image.tmdb.org/t/p/w154/q2P8e3TF1CWPBuDpT2OULTdviwP.jpg\",\"185\":\"https://image.tmdb.org/t/p/w185/q2P8e3TF1CWPBuDpT2OULTdviwP.jpg\",\"342\":\"https://image.tmdb.org/t/p/w342/q2P8e3TF1CWPBuDpT2OULTdviwP.jpg\",\"500\":\"https://image.tmdb.org/t/p/w500/q2P8e3TF1CWPBuDpT2OULTdviwP.jpg\",\"780\":\"https://image.tmdb.org/t/p/w780/q2P8e3TF1CWPBuDpT2OULTdviwP.jpg\",\"92\":\"https://image.tmdb.org/t/p/w92/q2P8e3TF1CWPBuDpT2OULTdviwP.jpg\",\"original\":\"https://image.tmdb.org/t/p/original/q2P8e3TF1CWPBuDpT2OULTdviwP.jpg\"},\"age\":-1,\"streamingInfo\":{\"hbo\":{\"us\":{\"link\":\"https://play.hbomax.com/page/urn:hbo:page:GXc3jsQC0icPCwwEAAAaq:type:series\",\"added\":1600287594,\"leaving\":0}}},\"originalLanguage\":\"el\"},{\"imdbID\":\"tt0115438\",\"tmdbID\":\"9401\",\"imdbRating\":65,\"imdbVoteCount\":19341,\"tmdbRating\":63,\"backdropPath\":\"/8LXegQtNNlBQdIMDhaDdDYwUYOl.jpg\",\"backdropURLs\":{\"1280\":\"https://image.tmdb.org/t/p/w1280/8LXegQtNNlBQdIMDhaDdDYwUYOl.jpg\",\"300\":\"https://image.tmdb.org/t/p/w300/8LXegQtNNlBQdIMDhaDdDYwUYOl.jpg\",\"780\":\"https://image.tmdb.org/t/p/w780/8LXegQtNNlBQdIMDhaDdDYwUYOl.jpg\",\"original\":\"https://image.tmdb.org/t/p/original/8LXegQtNNlBQdIMDhaDdDYwUYOl.jpg\"},\"originalTitle\":\"2 Days in the Valley\",\"genres\":[35,80,53],\"countries\":[\"US\"],\"year\":1996,\"runtime\":104,\"cast\":[\"Danny Aiello\",\"Greg Cruttwell\",\"Jeff Daniels\",\"Teri Hatcher\",\"Glenne Headly\",\"Peter Horton\",\"Marsha Mason\"],\"significants\":[\"John Herzfeld\"],\"title\":\"2 Days in the Valley\",\"overview\":\"In a sleepy bedroom community of LA's San Fernando Valley, the murder of a professional athlete by two hit men sets into motion a chain of events that puts the mundane lives of a dozen residents on a collision course. This clever tale tells the story of two hit men, a mistress, a nurse, a vindictive ex-wife, a wealthy art dealer and his lovelorn assistant, a suicidal writer and his dog, and a bitter cop and his partner.\",\"tagline\":\"You have one minute to decide the rest of your life.\",\"video\":\"umjwm08s104\",\"posterPath\":\"/vshIuvvH5a1xtxRdAsCkj7QqJi1.jpg\",\"posterURLs\":{\"154\":\"https://image.tmdb.org/t/p/w154/vshIuvvH5a1xtxRdAsCkj7QqJi1.jpg\",\"185\":\"https://image.tmdb.org/t/p/w185/vshIuvvH5a1xtxRdAsCkj7QqJi1.jpg\",\"342\":\"https://image.tmdb.org/t/p/w342/vshIuvvH5a1xtxRdAsCkj7QqJi1.jpg\",\"500\":\"https://image.tmdb.org/t/p/w500/vshIuvvH5a1xtxRdAsCkj7QqJi1.jpg\",\"780\":\"https://image.tmdb.org/t/p/w780/vshIuvvH5a1xtxRdAsCkj7QqJi1.jpg\",\"92\":\"https://image.tmdb.org/t/p/w92/vshIuvvH5a1xtxRdAsCkj7QqJi1.jpg\",\"original\":\"https://image.tmdb.org/t/p/original/vshIuvvH5a1xtxRdAsCkj7QqJi1.jpg\"},\"age\":16,\"streamingInfo\":{\"hbo\":{\"us\":{\"link\":\"https://play.hbomax.com/page/urn:hbo:page:GX7aTgAanbbZJwwEAAAHP:type:feature\",\"added\":1627819123,\"leaving\":0}}},\"originalLanguage\":\"en\"}],\"total_pages\":259}\n"
          ]
        }
      ]
    },
    {
      "cell_type": "markdown",
      "source": [
        "## Merging Datasets"
      ],
      "metadata": {
        "id": "INLDSlP1zKC5"
      }
    },
    {
      "cell_type": "code",
      "metadata": {
        "id": "Y0Hn6BvS0Vqa"
      },
      "source": [
        "netflix = pd.read_csv('Dataset Netflix.csv', error_bad_lines=False, sep=';')\n",
        "prime = pd.read_csv('Dataset Prime.csv', error_bad_lines=False, sep=';')\n",
        "disney = pd.read_csv('Dataset Disney.csv', error_bad_lines=False, sep=';')\n",
        "hbo = pd.read_csv('Dataset HBO.csv', error_bad_lines=False, sep=';')"
      ],
      "execution_count": null,
      "outputs": []
    },
    {
      "cell_type": "code",
      "metadata": {
        "colab": {
          "background_save": true
        },
        "id": "obxQFPxs1R7o"
      },
      "source": [
        "full_dataset = pd.concat([netflix, prime, disney, hbo], ignore_index=True)"
      ],
      "execution_count": null,
      "outputs": []
    },
    {
      "cell_type": "code",
      "metadata": {
        "id": "yvHRJBJd2H48"
      },
      "source": [
        "full_dataset"
      ],
      "execution_count": null,
      "outputs": []
    },
    {
      "cell_type": "code",
      "source": [
        "NA_countries = []\n",
        "SA_countries = []\n",
        "EU_countries = []\n",
        "AS_countries = []\n",
        "AF_countries = []\n",
        "OT_countries = []"
      ],
      "metadata": {
        "id": "ozVa3cG40HCL"
      },
      "execution_count": null,
      "outputs": []
    },
    {
      "cell_type": "code",
      "metadata": {
        "id": "ZzmQRm7m5ZOj"
      },
      "source": [
        "def convert_country_to_continent (country_column):\n",
        "    total_rows = country_column.count\n",
        "    continent_column = pd.DataFrame(columns=['continent'])\n",
        "    for i in range(total_rows):\n",
        "        entree = country_column.iloc[i]\n",
        "        if entree in NA_countries:\n",
        "            continent_column.iloc[i] = ['North America']\n",
        "        elif entree in SA_countries:\n",
        "            continent_column.iloc[i] = ['South America']\n",
        "        elif entree in EU_countries:\n",
        "            continent_column.iloc[i] = ['Europe']\n",
        "        elif entree in AS_countries:\n",
        "            continent_column.iloc[i] = ['Asia']\n",
        "        elif entree in AF_countries:\n",
        "            continent_column.iloc[i] = ['Africa']\n",
        "        elif entree in OT_countries:\n",
        "            continent_column.iloc[i] = ['Others']"
      ],
      "execution_count": null,
      "outputs": []
    },
    {
      "cell_type": "code",
      "metadata": {
        "id": "oP6Di7ST8APQ"
      },
      "source": [
        "for i in range(full_dataset['imdbID'].count()):\n",
        "    if type(full_dataset.iloc[i]['countries']) != float:\n",
        "        full_dataset.iloc[i]['countries'] = full_dataset.iloc[i]['countries'][:4]\n",
        "    else:\n",
        "        full_dataset.iloc[i]['countries'] = '[]'"
      ],
      "execution_count": null,
      "outputs": []
    },
    {
      "cell_type": "code",
      "metadata": {
        "id": "TWquLiCHWlu0"
      },
      "source": [
        "def Convert(string):\n",
        "    if type(string) == string && len(list(string.split(\"'\"))) :\n",
        "        li = list(string.split(\"'\"))\n",
        "    else:\n",
        "        li = ''\n",
        "    return li"
      ],
      "execution_count": null,
      "outputs": []
    },
    {
      "cell_type": "code",
      "metadata": {
        "id": "cm6IS8u09XG6"
      },
      "source": [
        "full_dataset['countries'].map(Convert)"
      ],
      "execution_count": null,
      "outputs": []
    },
    {
      "cell_type": "code",
      "metadata": {
        "id": "kg5RZ8pXBQcB"
      },
      "source": [
        "new_countries = pd.DataFrame(columns=['countries'])\n",
        "\n",
        "for i in range(full_dataset['imdbID'].count()):\n",
        "    if type(full_dataset.iloc[i]['countries']) != float:\n",
        "        print(new_countries.shape)\n",
        "        new_countries.iloc[i]['countries'] = Convert(full_dataset.iloc[i]['countries'])[1]\n",
        "\n",
        "new_countries"
      ],
      "execution_count": null,
      "outputs": []
    },
    {
      "cell_type": "code",
      "metadata": {
        "id": "KMRE92lnx3aI"
      },
      "source": [
        "full_dataset.to_csv('nodes.csv')"
      ],
      "execution_count": null,
      "outputs": []
    }
  ]
}